{
 "cells": [
  {
   "cell_type": "markdown",
   "source": [
    "### Opgave 55\n",
    "International currency exchange rates change frequently. Investigate current exchange rates, and update the currency converter script from Section 1.8 accordingly."
   ],
   "metadata": {
    "collapsed": false,
    "pycharm": {
     "name": "#%% md\n"
    }
   }
  },
  {
   "cell_type": "code",
   "execution_count": 2,
   "outputs": [
    {
     "name": "stdout",
     "output_type": "stream",
     "text": [
      "Today, $1000\n",
      "converts to £770.0\n"
     ]
    }
   ],
   "source": [
    "USD_to_GBP = 0.77\n",
    "USD_to_EUR = 0.84\n",
    "USD_to_JPY = 104.40\n",
    "USD_to_INR = 73.41\n",
    "\n",
    "GBP_sign = '\\u00A3' # Unicode values for non-ASCII currency symbols.\n",
    "EUR_sign = '\\u20AC'\n",
    "JPY_sign = '\\u00A5'\n",
    "INR_sign = '\\u20B9'\n",
    "\n",
    "dollars = 1000 # The number of dollars to convert\n",
    "\n",
    "pounds = dollars * USD_to_GBP   # Conversion calculations\n",
    "euros = dollars * USD_to_EUR\n",
    "yen = dollars * USD_to_JPY\n",
    "rupees = dollars * USD_to_INR\n",
    "\n",
    "print('Today, $' + str(dollars))\n",
    "print('converts to ' + GBP_sign + str(pounds))"
   ],
   "metadata": {
    "collapsed": false,
    "pycharm": {
     "name": "#%% python\n"
    }
   }
  },
  {
   "cell_type": "markdown",
   "source": [
    "### Opgave 56"
   ],
   "metadata": {
    "collapsed": false,
    "pycharm": {
     "name": "#%% md\n"
    }
   }
  },
  {
   "cell_type": "code",
   "execution_count": 4,
   "outputs": [
    {
     "name": "stdout",
     "output_type": "stream",
     "text": [
      "Today, $1000\n",
      "converts to kr.6280.0\n"
     ]
    }
   ],
   "source": [
    "USD_to_DKK = 6.28\n",
    "\n",
    "DKK_sign = 'kr.'\n",
    "\n",
    "dollars = 1000\n",
    "\n",
    "crowns = dollars * USD_to_DKK\n",
    "\n",
    "print('Today, $' + str(dollars))   # Printing the results\n",
    "print('converts to ' + DKK_sign + str(crowns))"
   ],
   "metadata": {
    "collapsed": false,
    "pycharm": {
     "name": "#%% python\n"
    }
   }
  },
  {
   "cell_type": "markdown",
   "source": [
    "### Opgave 58\n",
    "Fordelen ved at lave det i en variabel fremfor direkte hardcoded, er at det er nemmere at gøre\n",
    "dynamisk og tilgå værdien i koden."
   ],
   "metadata": {
    "collapsed": false,
    "pycharm": {
     "name": "#%% md\n"
    }
   }
  },
  {
   "cell_type": "markdown",
   "source": [
    "### Opgave 59"
   ],
   "metadata": {
    "collapsed": false,
    "pycharm": {
     "name": "#%% md\n"
    }
   }
  },
  {
   "cell_type": "code",
   "execution_count": 6,
   "outputs": [
    {
     "name": "stdout",
     "output_type": "stream",
     "text": [
      "Total bytes: 1099511627776\n",
      "\n",
      "Total KB: 1073741824.0\n",
      "Total MB: 1048576.0\n",
      "Total GB: 1024.0\n",
      "Total TB: 1.0\n",
      "Total PB: 0.0009765625\n",
      "Total EB: 9.5367431640625e-07\n",
      "Total ZB: 9.313225746154785e-10\n",
      "Total YB: 9.094947017729282e-13\n"
     ]
    }
   ],
   "source": [
    "bytes = 1024**4\n",
    "\n",
    "KB = bytes / 1024\n",
    "MB = KB / 1024\n",
    "GB = MB / 1024\n",
    "TB = GB / 1024\n",
    "PB = TB / 1024\n",
    "EB = PB / 1024\n",
    "ZB = EB / 1024\n",
    "YB = ZB / 1024\n",
    "\n",
    "print(\n",
    "    \"Total bytes: \" + str(bytes) +\n",
    "    \"\\n\" +\n",
    "    \"\\nTotal KB: \" + str(KB) +\n",
    "    \"\\nTotal MB: \" + str(MB) +\n",
    "    \"\\nTotal GB: \" + str(GB) +\n",
    "    \"\\nTotal TB: \" + str(TB) +\n",
    "    \"\\nTotal PB: \" + str(PB) +\n",
    "    \"\\nTotal EB: \" + str(EB) +\n",
    "    \"\\nTotal ZB: \" + str(ZB) +\n",
    "    \"\\nTotal YB: \" + str(YB)\n",
    ")"
   ],
   "metadata": {
    "collapsed": false,
    "pycharm": {
     "name": "#%% python\n"
    }
   }
  },
  {
   "cell_type": "markdown",
   "source": [
    "### Opgave 61"
   ],
   "metadata": {
    "collapsed": false,
    "pycharm": {
     "name": "#%% md\n"
    }
   }
  },
  {
   "cell_type": "code",
   "execution_count": null,
   "outputs": [],
   "source": [
    "days_per_week = 7\n",
    "weeks_per_year = 52\n",
    "days_per_year = days_per_week * weeks_per_year # Semantic error in original (** => ^)\n",
    "\n",
    "print(days_per_year) # NameError (SyntaxError) => PRINT -> print"
   ],
   "metadata": {
    "collapsed": false,
    "pycharm": {
     "name": "#%% python\n"
    }
   }
  }
 ],
 "metadata": {
  "kernelspec": {
   "display_name": "Python 3",
   "language": "python",
   "name": "python3"
  },
  "language_info": {
   "codemirror_mode": {
    "name": "ipython",
    "version": 2
   },
   "file_extension": ".py",
   "mimetype": "text/x-python",
   "name": "python",
   "nbconvert_exporter": "python",
   "pygments_lexer": "ipython2",
   "version": "2.7.6"
  }
 },
 "nbformat": 4,
 "nbformat_minor": 0
}